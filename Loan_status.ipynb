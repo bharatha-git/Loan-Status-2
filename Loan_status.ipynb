{
  "nbformat": 4,
  "nbformat_minor": 0,
  "metadata": {
    "colab": {
      "name": "Bank Loan .ipynb",
      "provenance": [],
      "collapsed_sections": []
    },
    "kernelspec": {
      "name": "python3",
      "display_name": "Python 3"
    }
  },
  "cells": [
    {
      "cell_type": "code",
      "metadata": {
        "id": "BLs7MBUzDSB0",
        "colab_type": "code",
        "colab": {}
      },
      "source": [
        "from google.colab import files\n",
        "import io\n",
        "import pandas as pd\n",
        "import numpy as np\n",
        "from matplotlib import pyplot as plt"
      ],
      "execution_count": 0,
      "outputs": []
    },
    {
      "cell_type": "code",
      "metadata": {
        "id": "UFgbrM_iD68r",
        "colab_type": "code",
        "outputId": "1a2f16cf-8652-4c32-eeec-37965471c72f",
        "colab": {
          "resources": {
            "http://localhost:8080/nbextensions/google.colab/files.js": {
              "data": "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",
              "ok": true,
              "headers": [
                [
                  "content-type",
                  "application/javascript"
                ]
              ],
              "status": 200,
              "status_text": ""
            }
          },
          "base_uri": "https://localhost:8080/",
          "height": 74
        }
      },
      "source": [
        "uploaded = files.upload()"
      ],
      "execution_count": 0,
      "outputs": [
        {
          "output_type": "display_data",
          "data": {
            "text/html": [
              "\n",
              "     <input type=\"file\" id=\"files-c81ffd84-5395-4ef2-97c2-4e3adf09adca\" name=\"files[]\" multiple disabled />\n",
              "     <output id=\"result-c81ffd84-5395-4ef2-97c2-4e3adf09adca\">\n",
              "      Upload widget is only available when the cell has been executed in the\n",
              "      current browser session. Please rerun this cell to enable.\n",
              "      </output>\n",
              "      <script src=\"/nbextensions/google.colab/files.js\"></script> "
            ],
            "text/plain": [
              "<IPython.core.display.HTML object>"
            ]
          },
          "metadata": {
            "tags": []
          }
        },
        {
          "output_type": "stream",
          "text": [
            "Saving Bank loan data.csv to Bank loan data.csv\n"
          ],
          "name": "stdout"
        }
      ]
    },
    {
      "cell_type": "code",
      "metadata": {
        "id": "DVLD2YvCEQ2U",
        "colab_type": "code",
        "outputId": "ed9e09a1-1f5a-49ed-cf2b-5648c61989fb",
        "colab": {
          "base_uri": "https://localhost:8080/",
          "height": 402
        }
      },
      "source": [
        "df = pd.read_csv(io.BytesIO(uploaded['Bank loan data.csv']))\n",
        "df"
      ],
      "execution_count": 0,
      "outputs": [
        {
          "output_type": "execute_result",
          "data": {
            "text/html": [
              "<div>\n",
              "<style scoped>\n",
              "    .dataframe tbody tr th:only-of-type {\n",
              "        vertical-align: middle;\n",
              "    }\n",
              "\n",
              "    .dataframe tbody tr th {\n",
              "        vertical-align: top;\n",
              "    }\n",
              "\n",
              "    .dataframe thead th {\n",
              "        text-align: right;\n",
              "    }\n",
              "</style>\n",
              "<table border=\"1\" class=\"dataframe\">\n",
              "  <thead>\n",
              "    <tr style=\"text-align: right;\">\n",
              "      <th></th>\n",
              "      <th>Loan_ID</th>\n",
              "      <th>Gender</th>\n",
              "      <th>Married</th>\n",
              "      <th>Dependents</th>\n",
              "      <th>Education</th>\n",
              "      <th>Self_Employed</th>\n",
              "      <th>ApplicantIncome</th>\n",
              "      <th>CoapplicantIncome</th>\n",
              "      <th>LoanAmount</th>\n",
              "      <th>Loan_Amount_Term</th>\n",
              "      <th>Credit_History</th>\n",
              "      <th>Property_Area</th>\n",
              "      <th>Loan_Status</th>\n",
              "    </tr>\n",
              "  </thead>\n",
              "  <tbody>\n",
              "    <tr>\n",
              "      <th>0</th>\n",
              "      <td>LP001002</td>\n",
              "      <td>Male</td>\n",
              "      <td>No</td>\n",
              "      <td>0</td>\n",
              "      <td>Graduate</td>\n",
              "      <td>No</td>\n",
              "      <td>5849</td>\n",
              "      <td>0.0</td>\n",
              "      <td>NaN</td>\n",
              "      <td>360.0</td>\n",
              "      <td>1.0</td>\n",
              "      <td>Urban</td>\n",
              "      <td>Y</td>\n",
              "    </tr>\n",
              "    <tr>\n",
              "      <th>1</th>\n",
              "      <td>LP001003</td>\n",
              "      <td>Male</td>\n",
              "      <td>Yes</td>\n",
              "      <td>1</td>\n",
              "      <td>Graduate</td>\n",
              "      <td>No</td>\n",
              "      <td>4583</td>\n",
              "      <td>1508.0</td>\n",
              "      <td>128.0</td>\n",
              "      <td>360.0</td>\n",
              "      <td>1.0</td>\n",
              "      <td>Rural</td>\n",
              "      <td>N</td>\n",
              "    </tr>\n",
              "    <tr>\n",
              "      <th>2</th>\n",
              "      <td>LP001005</td>\n",
              "      <td>Male</td>\n",
              "      <td>Yes</td>\n",
              "      <td>0</td>\n",
              "      <td>Graduate</td>\n",
              "      <td>Yes</td>\n",
              "      <td>3000</td>\n",
              "      <td>0.0</td>\n",
              "      <td>66.0</td>\n",
              "      <td>360.0</td>\n",
              "      <td>1.0</td>\n",
              "      <td>Urban</td>\n",
              "      <td>Y</td>\n",
              "    </tr>\n",
              "    <tr>\n",
              "      <th>3</th>\n",
              "      <td>LP001006</td>\n",
              "      <td>Male</td>\n",
              "      <td>Yes</td>\n",
              "      <td>0</td>\n",
              "      <td>Not Graduate</td>\n",
              "      <td>No</td>\n",
              "      <td>2583</td>\n",
              "      <td>2358.0</td>\n",
              "      <td>120.0</td>\n",
              "      <td>360.0</td>\n",
              "      <td>1.0</td>\n",
              "      <td>Urban</td>\n",
              "      <td>Y</td>\n",
              "    </tr>\n",
              "    <tr>\n",
              "      <th>4</th>\n",
              "      <td>LP001008</td>\n",
              "      <td>Male</td>\n",
              "      <td>No</td>\n",
              "      <td>0</td>\n",
              "      <td>Graduate</td>\n",
              "      <td>No</td>\n",
              "      <td>6000</td>\n",
              "      <td>0.0</td>\n",
              "      <td>141.0</td>\n",
              "      <td>360.0</td>\n",
              "      <td>1.0</td>\n",
              "      <td>Urban</td>\n",
              "      <td>Y</td>\n",
              "    </tr>\n",
              "    <tr>\n",
              "      <th>...</th>\n",
              "      <td>...</td>\n",
              "      <td>...</td>\n",
              "      <td>...</td>\n",
              "      <td>...</td>\n",
              "      <td>...</td>\n",
              "      <td>...</td>\n",
              "      <td>...</td>\n",
              "      <td>...</td>\n",
              "      <td>...</td>\n",
              "      <td>...</td>\n",
              "      <td>...</td>\n",
              "      <td>...</td>\n",
              "      <td>...</td>\n",
              "    </tr>\n",
              "    <tr>\n",
              "      <th>609</th>\n",
              "      <td>LP002978</td>\n",
              "      <td>Female</td>\n",
              "      <td>No</td>\n",
              "      <td>0</td>\n",
              "      <td>Graduate</td>\n",
              "      <td>No</td>\n",
              "      <td>2900</td>\n",
              "      <td>0.0</td>\n",
              "      <td>71.0</td>\n",
              "      <td>360.0</td>\n",
              "      <td>1.0</td>\n",
              "      <td>Rural</td>\n",
              "      <td>Y</td>\n",
              "    </tr>\n",
              "    <tr>\n",
              "      <th>610</th>\n",
              "      <td>LP002979</td>\n",
              "      <td>Male</td>\n",
              "      <td>Yes</td>\n",
              "      <td>3+</td>\n",
              "      <td>Graduate</td>\n",
              "      <td>No</td>\n",
              "      <td>4106</td>\n",
              "      <td>0.0</td>\n",
              "      <td>40.0</td>\n",
              "      <td>180.0</td>\n",
              "      <td>1.0</td>\n",
              "      <td>Rural</td>\n",
              "      <td>Y</td>\n",
              "    </tr>\n",
              "    <tr>\n",
              "      <th>611</th>\n",
              "      <td>LP002983</td>\n",
              "      <td>Male</td>\n",
              "      <td>Yes</td>\n",
              "      <td>1</td>\n",
              "      <td>Graduate</td>\n",
              "      <td>No</td>\n",
              "      <td>8072</td>\n",
              "      <td>240.0</td>\n",
              "      <td>253.0</td>\n",
              "      <td>360.0</td>\n",
              "      <td>1.0</td>\n",
              "      <td>Urban</td>\n",
              "      <td>Y</td>\n",
              "    </tr>\n",
              "    <tr>\n",
              "      <th>612</th>\n",
              "      <td>LP002984</td>\n",
              "      <td>Male</td>\n",
              "      <td>Yes</td>\n",
              "      <td>2</td>\n",
              "      <td>Graduate</td>\n",
              "      <td>No</td>\n",
              "      <td>7583</td>\n",
              "      <td>0.0</td>\n",
              "      <td>187.0</td>\n",
              "      <td>360.0</td>\n",
              "      <td>1.0</td>\n",
              "      <td>Urban</td>\n",
              "      <td>Y</td>\n",
              "    </tr>\n",
              "    <tr>\n",
              "      <th>613</th>\n",
              "      <td>LP002990</td>\n",
              "      <td>Female</td>\n",
              "      <td>No</td>\n",
              "      <td>0</td>\n",
              "      <td>Graduate</td>\n",
              "      <td>Yes</td>\n",
              "      <td>4583</td>\n",
              "      <td>0.0</td>\n",
              "      <td>133.0</td>\n",
              "      <td>360.0</td>\n",
              "      <td>0.0</td>\n",
              "      <td>Semiurban</td>\n",
              "      <td>N</td>\n",
              "    </tr>\n",
              "  </tbody>\n",
              "</table>\n",
              "<p>614 rows × 13 columns</p>\n",
              "</div>"
            ],
            "text/plain": [
              "      Loan_ID  Gender Married  ... Credit_History Property_Area Loan_Status\n",
              "0    LP001002    Male      No  ...            1.0         Urban           Y\n",
              "1    LP001003    Male     Yes  ...            1.0         Rural           N\n",
              "2    LP001005    Male     Yes  ...            1.0         Urban           Y\n",
              "3    LP001006    Male     Yes  ...            1.0         Urban           Y\n",
              "4    LP001008    Male      No  ...            1.0         Urban           Y\n",
              "..        ...     ...     ...  ...            ...           ...         ...\n",
              "609  LP002978  Female      No  ...            1.0         Rural           Y\n",
              "610  LP002979    Male     Yes  ...            1.0         Rural           Y\n",
              "611  LP002983    Male     Yes  ...            1.0         Urban           Y\n",
              "612  LP002984    Male     Yes  ...            1.0         Urban           Y\n",
              "613  LP002990  Female      No  ...            0.0     Semiurban           N\n",
              "\n",
              "[614 rows x 13 columns]"
            ]
          },
          "metadata": {
            "tags": []
          },
          "execution_count": 3
        }
      ]
    },
    {
      "cell_type": "code",
      "metadata": {
        "id": "duKePWM8FDW1",
        "colab_type": "code",
        "outputId": "778c753e-9f9a-47cf-c441-b7cd160109bc",
        "colab": {
          "base_uri": "https://localhost:8080/",
          "height": 195
        }
      },
      "source": [
        "df.head()"
      ],
      "execution_count": 0,
      "outputs": [
        {
          "output_type": "execute_result",
          "data": {
            "text/html": [
              "<div>\n",
              "<style scoped>\n",
              "    .dataframe tbody tr th:only-of-type {\n",
              "        vertical-align: middle;\n",
              "    }\n",
              "\n",
              "    .dataframe tbody tr th {\n",
              "        vertical-align: top;\n",
              "    }\n",
              "\n",
              "    .dataframe thead th {\n",
              "        text-align: right;\n",
              "    }\n",
              "</style>\n",
              "<table border=\"1\" class=\"dataframe\">\n",
              "  <thead>\n",
              "    <tr style=\"text-align: right;\">\n",
              "      <th></th>\n",
              "      <th>Loan_ID</th>\n",
              "      <th>Gender</th>\n",
              "      <th>Married</th>\n",
              "      <th>Dependents</th>\n",
              "      <th>Education</th>\n",
              "      <th>Self_Employed</th>\n",
              "      <th>ApplicantIncome</th>\n",
              "      <th>CoapplicantIncome</th>\n",
              "      <th>LoanAmount</th>\n",
              "      <th>Loan_Amount_Term</th>\n",
              "      <th>Credit_History</th>\n",
              "      <th>Property_Area</th>\n",
              "      <th>Loan_Status</th>\n",
              "    </tr>\n",
              "  </thead>\n",
              "  <tbody>\n",
              "    <tr>\n",
              "      <th>0</th>\n",
              "      <td>LP001002</td>\n",
              "      <td>Male</td>\n",
              "      <td>No</td>\n",
              "      <td>0</td>\n",
              "      <td>Graduate</td>\n",
              "      <td>No</td>\n",
              "      <td>5849</td>\n",
              "      <td>0.0</td>\n",
              "      <td>NaN</td>\n",
              "      <td>360.0</td>\n",
              "      <td>1.0</td>\n",
              "      <td>Urban</td>\n",
              "      <td>Y</td>\n",
              "    </tr>\n",
              "    <tr>\n",
              "      <th>1</th>\n",
              "      <td>LP001003</td>\n",
              "      <td>Male</td>\n",
              "      <td>Yes</td>\n",
              "      <td>1</td>\n",
              "      <td>Graduate</td>\n",
              "      <td>No</td>\n",
              "      <td>4583</td>\n",
              "      <td>1508.0</td>\n",
              "      <td>128.0</td>\n",
              "      <td>360.0</td>\n",
              "      <td>1.0</td>\n",
              "      <td>Rural</td>\n",
              "      <td>N</td>\n",
              "    </tr>\n",
              "    <tr>\n",
              "      <th>2</th>\n",
              "      <td>LP001005</td>\n",
              "      <td>Male</td>\n",
              "      <td>Yes</td>\n",
              "      <td>0</td>\n",
              "      <td>Graduate</td>\n",
              "      <td>Yes</td>\n",
              "      <td>3000</td>\n",
              "      <td>0.0</td>\n",
              "      <td>66.0</td>\n",
              "      <td>360.0</td>\n",
              "      <td>1.0</td>\n",
              "      <td>Urban</td>\n",
              "      <td>Y</td>\n",
              "    </tr>\n",
              "    <tr>\n",
              "      <th>3</th>\n",
              "      <td>LP001006</td>\n",
              "      <td>Male</td>\n",
              "      <td>Yes</td>\n",
              "      <td>0</td>\n",
              "      <td>Not Graduate</td>\n",
              "      <td>No</td>\n",
              "      <td>2583</td>\n",
              "      <td>2358.0</td>\n",
              "      <td>120.0</td>\n",
              "      <td>360.0</td>\n",
              "      <td>1.0</td>\n",
              "      <td>Urban</td>\n",
              "      <td>Y</td>\n",
              "    </tr>\n",
              "    <tr>\n",
              "      <th>4</th>\n",
              "      <td>LP001008</td>\n",
              "      <td>Male</td>\n",
              "      <td>No</td>\n",
              "      <td>0</td>\n",
              "      <td>Graduate</td>\n",
              "      <td>No</td>\n",
              "      <td>6000</td>\n",
              "      <td>0.0</td>\n",
              "      <td>141.0</td>\n",
              "      <td>360.0</td>\n",
              "      <td>1.0</td>\n",
              "      <td>Urban</td>\n",
              "      <td>Y</td>\n",
              "    </tr>\n",
              "  </tbody>\n",
              "</table>\n",
              "</div>"
            ],
            "text/plain": [
              "    Loan_ID Gender Married  ... Credit_History Property_Area Loan_Status\n",
              "0  LP001002   Male      No  ...            1.0         Urban           Y\n",
              "1  LP001003   Male     Yes  ...            1.0         Rural           N\n",
              "2  LP001005   Male     Yes  ...            1.0         Urban           Y\n",
              "3  LP001006   Male     Yes  ...            1.0         Urban           Y\n",
              "4  LP001008   Male      No  ...            1.0         Urban           Y\n",
              "\n",
              "[5 rows x 13 columns]"
            ]
          },
          "metadata": {
            "tags": []
          },
          "execution_count": 4
        }
      ]
    },
    {
      "cell_type": "code",
      "metadata": {
        "id": "h8wMLAXsFFMP",
        "colab_type": "code",
        "colab": {}
      },
      "source": [
        "data = df.drop(['Loan_ID','CoapplicantIncome','Married','Dependents','LoanAmount','Loan_Amount_Term','Property_Area'] , axis=1)"
      ],
      "execution_count": 0,
      "outputs": []
    },
    {
      "cell_type": "code",
      "metadata": {
        "id": "tTjlyTXtF0O_",
        "colab_type": "code",
        "outputId": "4decda49-ea84-4dc9-b698-8edbec1890ef",
        "colab": {
          "base_uri": "https://localhost:8080/",
          "height": 195
        }
      },
      "source": [
        "data.head()"
      ],
      "execution_count": 0,
      "outputs": [
        {
          "output_type": "execute_result",
          "data": {
            "text/html": [
              "<div>\n",
              "<style scoped>\n",
              "    .dataframe tbody tr th:only-of-type {\n",
              "        vertical-align: middle;\n",
              "    }\n",
              "\n",
              "    .dataframe tbody tr th {\n",
              "        vertical-align: top;\n",
              "    }\n",
              "\n",
              "    .dataframe thead th {\n",
              "        text-align: right;\n",
              "    }\n",
              "</style>\n",
              "<table border=\"1\" class=\"dataframe\">\n",
              "  <thead>\n",
              "    <tr style=\"text-align: right;\">\n",
              "      <th></th>\n",
              "      <th>Gender</th>\n",
              "      <th>Education</th>\n",
              "      <th>Self_Employed</th>\n",
              "      <th>ApplicantIncome</th>\n",
              "      <th>Credit_History</th>\n",
              "      <th>Loan_Status</th>\n",
              "    </tr>\n",
              "  </thead>\n",
              "  <tbody>\n",
              "    <tr>\n",
              "      <th>0</th>\n",
              "      <td>Male</td>\n",
              "      <td>Graduate</td>\n",
              "      <td>No</td>\n",
              "      <td>5849</td>\n",
              "      <td>1.0</td>\n",
              "      <td>Y</td>\n",
              "    </tr>\n",
              "    <tr>\n",
              "      <th>1</th>\n",
              "      <td>Male</td>\n",
              "      <td>Graduate</td>\n",
              "      <td>No</td>\n",
              "      <td>4583</td>\n",
              "      <td>1.0</td>\n",
              "      <td>N</td>\n",
              "    </tr>\n",
              "    <tr>\n",
              "      <th>2</th>\n",
              "      <td>Male</td>\n",
              "      <td>Graduate</td>\n",
              "      <td>Yes</td>\n",
              "      <td>3000</td>\n",
              "      <td>1.0</td>\n",
              "      <td>Y</td>\n",
              "    </tr>\n",
              "    <tr>\n",
              "      <th>3</th>\n",
              "      <td>Male</td>\n",
              "      <td>Not Graduate</td>\n",
              "      <td>No</td>\n",
              "      <td>2583</td>\n",
              "      <td>1.0</td>\n",
              "      <td>Y</td>\n",
              "    </tr>\n",
              "    <tr>\n",
              "      <th>4</th>\n",
              "      <td>Male</td>\n",
              "      <td>Graduate</td>\n",
              "      <td>No</td>\n",
              "      <td>6000</td>\n",
              "      <td>1.0</td>\n",
              "      <td>Y</td>\n",
              "    </tr>\n",
              "  </tbody>\n",
              "</table>\n",
              "</div>"
            ],
            "text/plain": [
              "  Gender     Education  ... Credit_History  Loan_Status\n",
              "0   Male      Graduate  ...            1.0            Y\n",
              "1   Male      Graduate  ...            1.0            N\n",
              "2   Male      Graduate  ...            1.0            Y\n",
              "3   Male  Not Graduate  ...            1.0            Y\n",
              "4   Male      Graduate  ...            1.0            Y\n",
              "\n",
              "[5 rows x 6 columns]"
            ]
          },
          "metadata": {
            "tags": []
          },
          "execution_count": 6
        }
      ]
    },
    {
      "cell_type": "code",
      "metadata": {
        "id": "szj8lNMJF46f",
        "colab_type": "code",
        "colab": {}
      },
      "source": [
        "#X = data.iloc[:,:-1]    # (Loan_ID,\tGender,\tEducation,\tSelf_Employed,\tApplicantIncome,\tCredit_History,\tProperty_Area,\tLoan_Status)\n",
        "#y = data.iloc[:,-1]     # Loan Status"
      ],
      "execution_count": 0,
      "outputs": []
    },
    {
      "cell_type": "code",
      "metadata": {
        "id": "hudC1mAsGBud",
        "colab_type": "code",
        "outputId": "dc3dd2a6-44af-4ab1-b474-83757b577461",
        "colab": {
          "base_uri": "https://localhost:8080/",
          "height": 134
        }
      },
      "source": [
        "data.isnull().sum()"
      ],
      "execution_count": 0,
      "outputs": [
        {
          "output_type": "execute_result",
          "data": {
            "text/plain": [
              "Gender             13\n",
              "Education           0\n",
              "Self_Employed      32\n",
              "ApplicantIncome     0\n",
              "Credit_History     50\n",
              "Loan_Status         0\n",
              "dtype: int64"
            ]
          },
          "metadata": {
            "tags": []
          },
          "execution_count": 8
        }
      ]
    },
    {
      "cell_type": "code",
      "metadata": {
        "id": "nux4XYOtMe48",
        "colab_type": "code",
        "colab": {}
      },
      "source": [
        "data['Gender'].fillna('Male',inplace=True)\n",
        "data['Self_Employed'].fillna('No', inplace=True)\n",
        "data['Credit_History'].fillna(1.0, inplace=True)"
      ],
      "execution_count": 0,
      "outputs": []
    },
    {
      "cell_type": "code",
      "metadata": {
        "id": "cR36WK3wMPPi",
        "colab_type": "code",
        "colab": {}
      },
      "source": [
        "from sklearn.preprocessing import LabelEncoder, OneHotEncoder, StandardScaler"
      ],
      "execution_count": 0,
      "outputs": []
    },
    {
      "cell_type": "code",
      "metadata": {
        "id": "uXYMbkwOJGM_",
        "colab_type": "code",
        "outputId": "7f5b9032-49aa-4a06-cbbf-470dc9f252af",
        "colab": {
          "base_uri": "https://localhost:8080/",
          "height": 402
        }
      },
      "source": [
        "\n",
        "\n",
        "label_enc_X = LabelEncoder()\n",
        "data_col = ['Gender',\t'Education',\t'Self_Employed',\t'Loan_Status']\n",
        "\n",
        "for i in data_col:\n",
        "  data[i] = label_enc_X.fit_transform(data[i])\n",
        "\n",
        "\n",
        "\n",
        "#data.drop(['Property_Area'], axis=1, inplace=True)\n",
        "\n",
        "\n",
        "data"
      ],
      "execution_count": 0,
      "outputs": [
        {
          "output_type": "execute_result",
          "data": {
            "text/html": [
              "<div>\n",
              "<style scoped>\n",
              "    .dataframe tbody tr th:only-of-type {\n",
              "        vertical-align: middle;\n",
              "    }\n",
              "\n",
              "    .dataframe tbody tr th {\n",
              "        vertical-align: top;\n",
              "    }\n",
              "\n",
              "    .dataframe thead th {\n",
              "        text-align: right;\n",
              "    }\n",
              "</style>\n",
              "<table border=\"1\" class=\"dataframe\">\n",
              "  <thead>\n",
              "    <tr style=\"text-align: right;\">\n",
              "      <th></th>\n",
              "      <th>Gender</th>\n",
              "      <th>Education</th>\n",
              "      <th>Self_Employed</th>\n",
              "      <th>ApplicantIncome</th>\n",
              "      <th>Credit_History</th>\n",
              "      <th>Loan_Status</th>\n",
              "    </tr>\n",
              "  </thead>\n",
              "  <tbody>\n",
              "    <tr>\n",
              "      <th>0</th>\n",
              "      <td>1</td>\n",
              "      <td>0</td>\n",
              "      <td>0</td>\n",
              "      <td>5849</td>\n",
              "      <td>1.0</td>\n",
              "      <td>1</td>\n",
              "    </tr>\n",
              "    <tr>\n",
              "      <th>1</th>\n",
              "      <td>1</td>\n",
              "      <td>0</td>\n",
              "      <td>0</td>\n",
              "      <td>4583</td>\n",
              "      <td>1.0</td>\n",
              "      <td>0</td>\n",
              "    </tr>\n",
              "    <tr>\n",
              "      <th>2</th>\n",
              "      <td>1</td>\n",
              "      <td>0</td>\n",
              "      <td>1</td>\n",
              "      <td>3000</td>\n",
              "      <td>1.0</td>\n",
              "      <td>1</td>\n",
              "    </tr>\n",
              "    <tr>\n",
              "      <th>3</th>\n",
              "      <td>1</td>\n",
              "      <td>1</td>\n",
              "      <td>0</td>\n",
              "      <td>2583</td>\n",
              "      <td>1.0</td>\n",
              "      <td>1</td>\n",
              "    </tr>\n",
              "    <tr>\n",
              "      <th>4</th>\n",
              "      <td>1</td>\n",
              "      <td>0</td>\n",
              "      <td>0</td>\n",
              "      <td>6000</td>\n",
              "      <td>1.0</td>\n",
              "      <td>1</td>\n",
              "    </tr>\n",
              "    <tr>\n",
              "      <th>...</th>\n",
              "      <td>...</td>\n",
              "      <td>...</td>\n",
              "      <td>...</td>\n",
              "      <td>...</td>\n",
              "      <td>...</td>\n",
              "      <td>...</td>\n",
              "    </tr>\n",
              "    <tr>\n",
              "      <th>609</th>\n",
              "      <td>0</td>\n",
              "      <td>0</td>\n",
              "      <td>0</td>\n",
              "      <td>2900</td>\n",
              "      <td>1.0</td>\n",
              "      <td>1</td>\n",
              "    </tr>\n",
              "    <tr>\n",
              "      <th>610</th>\n",
              "      <td>1</td>\n",
              "      <td>0</td>\n",
              "      <td>0</td>\n",
              "      <td>4106</td>\n",
              "      <td>1.0</td>\n",
              "      <td>1</td>\n",
              "    </tr>\n",
              "    <tr>\n",
              "      <th>611</th>\n",
              "      <td>1</td>\n",
              "      <td>0</td>\n",
              "      <td>0</td>\n",
              "      <td>8072</td>\n",
              "      <td>1.0</td>\n",
              "      <td>1</td>\n",
              "    </tr>\n",
              "    <tr>\n",
              "      <th>612</th>\n",
              "      <td>1</td>\n",
              "      <td>0</td>\n",
              "      <td>0</td>\n",
              "      <td>7583</td>\n",
              "      <td>1.0</td>\n",
              "      <td>1</td>\n",
              "    </tr>\n",
              "    <tr>\n",
              "      <th>613</th>\n",
              "      <td>0</td>\n",
              "      <td>0</td>\n",
              "      <td>1</td>\n",
              "      <td>4583</td>\n",
              "      <td>0.0</td>\n",
              "      <td>0</td>\n",
              "    </tr>\n",
              "  </tbody>\n",
              "</table>\n",
              "<p>614 rows × 6 columns</p>\n",
              "</div>"
            ],
            "text/plain": [
              "     Gender  Education  ...  Credit_History  Loan_Status\n",
              "0         1          0  ...             1.0            1\n",
              "1         1          0  ...             1.0            0\n",
              "2         1          0  ...             1.0            1\n",
              "3         1          1  ...             1.0            1\n",
              "4         1          0  ...             1.0            1\n",
              "..      ...        ...  ...             ...          ...\n",
              "609       0          0  ...             1.0            1\n",
              "610       1          0  ...             1.0            1\n",
              "611       1          0  ...             1.0            1\n",
              "612       1          0  ...             1.0            1\n",
              "613       0          0  ...             0.0            0\n",
              "\n",
              "[614 rows x 6 columns]"
            ]
          },
          "metadata": {
            "tags": []
          },
          "execution_count": 11
        }
      ]
    },
    {
      "cell_type": "code",
      "metadata": {
        "id": "6UCIocUwF1Y8",
        "colab_type": "code",
        "colab": {}
      },
      "source": [
        ""
      ],
      "execution_count": 0,
      "outputs": []
    },
    {
      "cell_type": "code",
      "metadata": {
        "id": "UL1EwgQkJH8V",
        "colab_type": "code",
        "colab": {}
      },
      "source": [
        ""
      ],
      "execution_count": 0,
      "outputs": []
    },
    {
      "cell_type": "code",
      "metadata": {
        "id": "qK0io7VjKrgM",
        "colab_type": "code",
        "colab": {}
      },
      "source": [
        "X = data.iloc[:,:-1].values   # (\tGender,\tEducation,\tSelf_Employed,\tApplicantIncome,\tCredit_History)\n",
        "\n",
        "y = data.iloc[:,-1].values   # Loan Status"
      ],
      "execution_count": 0,
      "outputs": []
    },
    {
      "cell_type": "code",
      "metadata": {
        "id": "--F2wEukLhUi",
        "colab_type": "code",
        "outputId": "3c5a659f-6629-469c-afd4-ff5ccc3abba0",
        "colab": {
          "base_uri": "https://localhost:8080/",
          "height": 487
        }
      },
      "source": [
        "y\n",
        "\n"
      ],
      "execution_count": 0,
      "outputs": [
        {
          "output_type": "execute_result",
          "data": {
            "text/plain": [
              "array([1, 0, 1, 1, 1, 1, 1, 0, 1, 0, 1, 1, 1, 0, 1, 1, 1, 0, 0, 1, 0, 1,\n",
              "       0, 0, 0, 1, 1, 1, 0, 1, 0, 0, 0, 1, 0, 1, 0, 1, 1, 1, 0, 1, 1, 1,\n",
              "       1, 1, 1, 1, 0, 1, 1, 1, 0, 0, 0, 1, 1, 0, 1, 1, 1, 1, 0, 0, 0, 0,\n",
              "       0, 1, 1, 0, 1, 1, 1, 0, 1, 0, 0, 0, 0, 1, 1, 1, 0, 0, 1, 1, 1, 1,\n",
              "       1, 1, 1, 1, 1, 1, 1, 0, 1, 1, 1, 1, 1, 1, 1, 1, 1, 1, 1, 0, 0, 1,\n",
              "       1, 1, 0, 1, 1, 1, 1, 1, 0, 1, 1, 1, 1, 1, 1, 1, 1, 1, 0, 0, 1, 1,\n",
              "       1, 1, 1, 0, 0, 1, 0, 0, 0, 1, 1, 1, 1, 1, 1, 1, 0, 1, 0, 1, 0, 0,\n",
              "       1, 1, 1, 1, 1, 1, 1, 0, 0, 1, 1, 1, 0, 1, 0, 1, 1, 1, 0, 1, 0, 1,\n",
              "       1, 0, 1, 0, 0, 0, 1, 0, 1, 1, 0, 1, 1, 1, 1, 0, 0, 1, 1, 0, 1, 1,\n",
              "       1, 0, 1, 1, 0, 1, 1, 1, 1, 1, 1, 0, 0, 0, 1, 1, 1, 1, 0, 1, 0, 1,\n",
              "       0, 1, 1, 1, 1, 0, 0, 1, 1, 1, 1, 1, 1, 1, 1, 1, 0, 1, 1, 1, 1, 0,\n",
              "       1, 1, 1, 0, 1, 1, 1, 1, 0, 0, 1, 1, 0, 1, 0, 0, 0, 0, 1, 1, 0, 1,\n",
              "       1, 1, 1, 1, 0, 1, 1, 1, 1, 1, 1, 1, 1, 1, 1, 1, 0, 1, 1, 1, 0, 1,\n",
              "       0, 1, 1, 1, 1, 0, 1, 0, 1, 1, 1, 1, 0, 0, 0, 1, 1, 1, 1, 0, 1, 0,\n",
              "       0, 1, 1, 1, 1, 1, 0, 1, 1, 1, 1, 0, 1, 1, 1, 1, 1, 0, 1, 1, 0, 1,\n",
              "       1, 1, 1, 1, 1, 1, 1, 1, 0, 1, 0, 0, 1, 1, 1, 1, 0, 1, 1, 1, 1, 0,\n",
              "       1, 0, 1, 1, 1, 0, 0, 1, 0, 1, 1, 1, 1, 0, 0, 0, 1, 0, 1, 1, 1, 0,\n",
              "       1, 1, 1, 1, 0, 1, 1, 1, 1, 1, 0, 1, 1, 0, 1, 1, 1, 1, 1, 1, 1, 1,\n",
              "       0, 1, 1, 0, 0, 0, 1, 1, 0, 1, 1, 1, 0, 0, 0, 1, 0, 1, 0, 1, 0, 0,\n",
              "       1, 1, 1, 0, 1, 0, 1, 1, 0, 1, 1, 1, 1, 0, 1, 1, 1, 1, 1, 1, 0, 1,\n",
              "       1, 1, 1, 1, 1, 1, 1, 0, 0, 0, 0, 1, 0, 1, 1, 1, 1, 0, 1, 0, 1, 1,\n",
              "       1, 1, 0, 1, 0, 1, 1, 0, 1, 0, 1, 1, 1, 1, 1, 0, 1, 0, 1, 1, 1, 1,\n",
              "       1, 1, 0, 0, 1, 0, 1, 1, 1, 1, 0, 1, 1, 1, 1, 0, 1, 1, 1, 0, 1, 1,\n",
              "       1, 0, 1, 1, 0, 1, 1, 0, 0, 1, 1, 0, 0, 0, 1, 1, 1, 1, 0, 1, 1, 1,\n",
              "       1, 1, 1, 1, 0, 0, 1, 1, 1, 1, 0, 1, 1, 0, 1, 1, 1, 1, 0, 1, 0, 1,\n",
              "       0, 1, 1, 0, 0, 1, 1, 1, 1, 1, 1, 1, 1, 1, 0, 1, 1, 0, 0, 0, 1, 0,\n",
              "       1, 0, 0, 1, 0, 1, 1, 1, 1, 0, 1, 0, 0, 0, 1, 1, 1, 0, 1, 0, 1, 1,\n",
              "       1, 1, 0, 0, 1, 1, 0, 1, 1, 1, 1, 0, 1, 1, 1, 1, 1, 1, 1, 0])"
            ]
          },
          "metadata": {
            "tags": []
          },
          "execution_count": 13
        }
      ]
    },
    {
      "cell_type": "code",
      "metadata": {
        "id": "IrjwvESZQYv1",
        "colab_type": "code",
        "colab": {}
      },
      "source": [
        "from sklearn.model_selection import train_test_split\n",
        "from sklearn.metrics import accuracy_score, classification_report, confusion_matrix\n",
        "from sklearn.preprocessing import StandardScaler\n",
        "from sklearn.ensemble import RandomForestRegressor, RandomForestClassifier"
      ],
      "execution_count": 0,
      "outputs": []
    },
    {
      "cell_type": "code",
      "metadata": {
        "id": "_XgeTmP0gkPZ",
        "colab_type": "code",
        "colab": {}
      },
      "source": [
        "X_train, X_test, y_train, y_test = train_test_split(X, y, test_size=.20)"
      ],
      "execution_count": 0,
      "outputs": []
    },
    {
      "cell_type": "code",
      "metadata": {
        "id": "urB3w4z3rw_i",
        "colab_type": "code",
        "outputId": "b5f378ed-6137-481b-a12b-f2b2cd490fbd",
        "colab": {
          "base_uri": "https://localhost:8080/",
          "height": 1000
        }
      },
      "source": [
        "sc = StandardScaler()\n",
        "X_train = sc.fit_transform(X_train)\n",
        "X_test = sc.transform(X_test)\n",
        "\n",
        "X_test"
      ],
      "execution_count": 0,
      "outputs": [
        {
          "output_type": "execute_result",
          "data": {
            "text/plain": [
              "array([[-2.17009270e+00, -5.05721737e-01, -4.00944511e-01,\n",
              "        -3.00687369e-01,  4.07763147e-01],\n",
              "       [ 4.60809808e-01, -5.05721737e-01, -4.00944511e-01,\n",
              "        -2.17477655e-01,  4.07763147e-01],\n",
              "       [ 4.60809808e-01, -5.05721737e-01,  2.49411071e+00,\n",
              "        -3.52558360e-01,  4.07763147e-01],\n",
              "       [-2.17009270e+00, -5.05721737e-01, -4.00944511e-01,\n",
              "        -2.75832520e-01,  4.07763147e-01],\n",
              "       [ 4.60809808e-01,  1.97737199e+00, -4.00944511e-01,\n",
              "         1.55653846e-01,  4.07763147e-01],\n",
              "       [ 4.60809808e-01, -5.05721737e-01, -4.00944511e-01,\n",
              "        -4.32371759e-01,  4.07763147e-01],\n",
              "       [-2.17009270e+00, -5.05721737e-01, -4.00944511e-01,\n",
              "        -4.97364875e-01,  4.07763147e-01],\n",
              "       [ 4.60809808e-01,  1.97737199e+00,  2.49411071e+00,\n",
              "        -4.61703569e-01, -2.45240407e+00],\n",
              "       [-2.17009270e+00,  1.97737199e+00, -4.00944511e-01,\n",
              "        -1.53410807e-01,  4.07763147e-01],\n",
              "       [ 4.60809808e-01, -5.05721737e-01, -4.00944511e-01,\n",
              "        -3.90072201e-01,  4.07763147e-01],\n",
              "       [ 4.60809808e-01,  1.97737199e+00, -4.00944511e-01,\n",
              "        -2.72744961e-01,  4.07763147e-01],\n",
              "       [ 4.60809808e-01, -5.05721737e-01, -4.00944511e-01,\n",
              "        -3.09178156e-01, -2.45240407e+00],\n",
              "       [ 4.60809808e-01, -5.05721737e-01, -4.00944511e-01,\n",
              "        -5.68687487e-01,  4.07763147e-01],\n",
              "       [ 4.60809808e-01, -5.05721737e-01, -4.00944511e-01,\n",
              "        -2.90652803e-01,  4.07763147e-01],\n",
              "       [ 4.60809808e-01,  1.97737199e+00, -4.00944511e-01,\n",
              "        -1.74869341e-01,  4.07763147e-01],\n",
              "       [ 4.60809808e-01, -5.05721737e-01, -4.00944511e-01,\n",
              "         5.74789975e-01,  4.07763147e-01],\n",
              "       [ 4.60809808e-01,  1.97737199e+00, -4.00944511e-01,\n",
              "        -3.88528422e-01,  4.07763147e-01],\n",
              "       [ 4.60809808e-01, -5.05721737e-01, -4.00944511e-01,\n",
              "         1.47067791e-02,  4.07763147e-01],\n",
              "       [ 4.60809808e-01, -5.05721737e-01, -4.00944511e-01,\n",
              "        -4.34224294e-01, -2.45240407e+00],\n",
              "       [-2.17009270e+00,  1.97737199e+00, -4.00944511e-01,\n",
              "        -4.44567617e-01, -2.45240407e+00],\n",
              "       [ 4.60809808e-01, -5.05721737e-01, -4.00944511e-01,\n",
              "        -8.41318944e-01,  4.07763147e-01],\n",
              "       [ 4.60809808e-01, -5.05721737e-01, -4.00944511e-01,\n",
              "        -2.89109023e-01,  4.07763147e-01],\n",
              "       [ 4.60809808e-01, -5.05721737e-01, -4.00944511e-01,\n",
              "        -1.08795580e-01,  4.07763147e-01],\n",
              "       [ 4.60809808e-01, -5.05721737e-01, -4.00944511e-01,\n",
              "         2.78289047e-02,  4.07763147e-01],\n",
              "       [ 4.60809808e-01,  1.97737199e+00, -4.00944511e-01,\n",
              "        -5.12339536e-01,  4.07763147e-01],\n",
              "       [ 4.60809808e-01, -5.05721737e-01, -4.00944511e-01,\n",
              "        -3.52712738e-01,  4.07763147e-01],\n",
              "       [ 4.60809808e-01, -5.05721737e-01, -4.00944511e-01,\n",
              "        -2.30599781e-01,  4.07763147e-01],\n",
              "       [ 4.60809808e-01, -5.05721737e-01, -4.00944511e-01,\n",
              "        -9.25858950e-02, -2.45240407e+00],\n",
              "       [ 4.60809808e-01,  1.97737199e+00, -4.00944511e-01,\n",
              "        -5.86595329e-01, -2.45240407e+00],\n",
              "       [ 4.60809808e-01, -5.05721737e-01, -4.00944511e-01,\n",
              "         3.60204627e-01,  4.07763147e-01],\n",
              "       [-2.17009270e+00, -5.05721737e-01, -4.00944511e-01,\n",
              "        -8.00254410e-01,  4.07763147e-01],\n",
              "       [ 4.60809808e-01, -5.05721737e-01, -4.00944511e-01,\n",
              "        -2.03583640e-01,  4.07763147e-01],\n",
              "       [ 4.60809808e-01, -5.05721737e-01, -4.00944511e-01,\n",
              "         4.95850619e+00,  4.07763147e-01],\n",
              "       [ 4.60809808e-01, -5.05721737e-01,  2.49411071e+00,\n",
              "        -3.30482313e-01,  4.07763147e-01],\n",
              "       [ 4.60809808e-01,  1.97737199e+00, -4.00944511e-01,\n",
              "        -1.10030603e-01,  4.07763147e-01],\n",
              "       [ 4.60809808e-01,  1.97737199e+00, -4.00944511e-01,\n",
              "         3.18059447e-01, -2.45240407e+00],\n",
              "       [ 4.60809808e-01, -5.05721737e-01,  2.49411071e+00,\n",
              "         6.73591862e-01,  4.07763147e-01],\n",
              "       [-2.17009270e+00,  1.97737199e+00, -4.00944511e-01,\n",
              "        -5.32717425e-01, -2.45240407e+00],\n",
              "       [ 4.60809808e-01, -5.05721737e-01, -4.00944511e-01,\n",
              "        -2.85558330e-01,  4.07763147e-01],\n",
              "       [ 4.60809808e-01,  1.97737199e+00, -4.00944511e-01,\n",
              "        -4.17705854e-01,  4.07763147e-01],\n",
              "       [ 4.60809808e-01, -5.05721737e-01, -4.00944511e-01,\n",
              "        -1.50477626e-01,  4.07763147e-01],\n",
              "       [ 4.60809808e-01,  1.97737199e+00, -4.00944511e-01,\n",
              "        -3.59196612e-01,  4.07763147e-01],\n",
              "       [ 4.60809808e-01, -5.05721737e-01, -4.00944511e-01,\n",
              "        -3.57652832e-01,  4.07763147e-01],\n",
              "       [ 4.60809808e-01,  1.97737199e+00, -4.00944511e-01,\n",
              "        -4.63092971e-01,  4.07763147e-01],\n",
              "       [-2.17009270e+00, -5.05721737e-01, -4.00944511e-01,\n",
              "        -1.95555986e-01,  4.07763147e-01],\n",
              "       [ 4.60809808e-01, -5.05721737e-01, -4.00944511e-01,\n",
              "        -2.26431576e-01,  4.07763147e-01],\n",
              "       [-2.17009270e+00, -5.05721737e-01, -4.00944511e-01,\n",
              "        -3.04855574e-01,  4.07763147e-01],\n",
              "       [-2.17009270e+00,  1.97737199e+00, -4.00944511e-01,\n",
              "        -1.92931561e-01,  4.07763147e-01],\n",
              "       [-2.17009270e+00, -5.05721737e-01, -4.00944511e-01,\n",
              "        -3.88065288e-01,  4.07763147e-01],\n",
              "       [ 4.60809808e-01, -5.05721737e-01, -4.00944511e-01,\n",
              "        -5.42906370e-01,  4.07763147e-01],\n",
              "       [-2.17009270e+00, -5.05721737e-01, -4.00944511e-01,\n",
              "        -2.75986897e-01,  4.07763147e-01],\n",
              "       [ 4.60809808e-01, -5.05721737e-01, -4.00944511e-01,\n",
              "        -5.92924825e-01,  4.07763147e-01],\n",
              "       [ 4.60809808e-01, -5.05721737e-01, -4.00944511e-01,\n",
              "        -2.82102905e-02,  4.07763147e-01],\n",
              "       [ 4.60809808e-01, -5.05721737e-01,  2.49411071e+00,\n",
              "        -6.17470919e-01,  4.07763147e-01],\n",
              "       [ 4.60809808e-01,  1.97737199e+00, -4.00944511e-01,\n",
              "         1.82669987e-01,  4.07763147e-01],\n",
              "       [ 4.60809808e-01, -5.05721737e-01, -4.00944511e-01,\n",
              "        -2.21182726e-01,  4.07763147e-01],\n",
              "       [ 4.60809808e-01,  1.97737199e+00, -4.00944511e-01,\n",
              "        -4.79765789e-01,  4.07763147e-01],\n",
              "       [ 4.60809808e-01,  1.97737199e+00, -4.00944511e-01,\n",
              "        -2.62092882e-01,  4.07763147e-01],\n",
              "       [ 4.60809808e-01,  1.97737199e+00, -4.00944511e-01,\n",
              "        -4.85632151e-01, -2.45240407e+00],\n",
              "       [ 4.60809808e-01, -5.05721737e-01, -4.00944511e-01,\n",
              "        -4.06745020e-01,  4.07763147e-01],\n",
              "       [ 4.60809808e-01, -5.05721737e-01, -4.00944511e-01,\n",
              "        -2.68885512e-01,  4.07763147e-01],\n",
              "       [ 4.60809808e-01, -5.05721737e-01, -4.00944511e-01,\n",
              "        -3.24152817e-01,  4.07763147e-01],\n",
              "       [ 4.60809808e-01, -5.05721737e-01, -4.00944511e-01,\n",
              "         1.45119359e+00,  4.07763147e-01],\n",
              "       [ 4.60809808e-01, -5.05721737e-01, -4.00944511e-01,\n",
              "        -4.89922035e-03,  4.07763147e-01],\n",
              "       [ 4.60809808e-01,  1.97737199e+00, -4.00944511e-01,\n",
              "        -4.12611382e-01,  4.07763147e-01],\n",
              "       [ 4.60809808e-01,  1.97737199e+00, -4.00944511e-01,\n",
              "        -3.38664344e-01,  4.07763147e-01],\n",
              "       [ 4.60809808e-01, -5.05721737e-01, -4.00944511e-01,\n",
              "        -3.58733478e-01,  4.07763147e-01],\n",
              "       [ 4.60809808e-01, -5.05721737e-01, -4.00944511e-01,\n",
              "        -1.51867027e-01,  4.07763147e-01],\n",
              "       [-2.17009270e+00, -5.05721737e-01, -4.00944511e-01,\n",
              "        -9.25858950e-02,  4.07763147e-01],\n",
              "       [-2.17009270e+00, -5.05721737e-01,  2.49411071e+00,\n",
              "         1.56836645e+00,  4.07763147e-01],\n",
              "       [-2.17009270e+00,  1.97737199e+00, -4.00944511e-01,\n",
              "        -2.31526048e-01,  4.07763147e-01],\n",
              "       [ 4.60809808e-01,  1.97737199e+00, -4.00944511e-01,\n",
              "        -3.89917823e-01, -2.45240407e+00],\n",
              "       [ 4.60809808e-01, -5.05721737e-01, -4.00944511e-01,\n",
              "        -4.78530766e-01,  4.07763147e-01],\n",
              "       [ 4.60809808e-01,  1.97737199e+00, -4.00944511e-01,\n",
              "        -1.10339359e-01,  4.07763147e-01],\n",
              "       [-2.17009270e+00, -5.05721737e-01,  2.49411071e+00,\n",
              "         2.85794456e-01,  4.07763147e-01],\n",
              "       [ 4.60809808e-01,  1.97737199e+00, -4.00944511e-01,\n",
              "        -1.30408492e-01, -2.45240407e+00],\n",
              "       [ 4.60809808e-01,  1.97737199e+00, -4.00944511e-01,\n",
              "        -4.70811868e-01,  4.07763147e-01],\n",
              "       [ 4.60809808e-01, -5.05721737e-01, -4.00944511e-01,\n",
              "        -5.46457063e-01,  4.07763147e-01],\n",
              "       [ 4.60809808e-01,  1.97737199e+00, -4.00944511e-01,\n",
              "        -5.62203614e-01,  4.07763147e-01],\n",
              "       [ 4.60809808e-01, -5.05721737e-01, -4.00944511e-01,\n",
              "         2.25905339e+00,  4.07763147e-01],\n",
              "       [ 4.60809808e-01,  1.97737199e+00, -4.00944511e-01,\n",
              "        -3.24152817e-01,  4.07763147e-01],\n",
              "       [ 4.60809808e-01, -5.05721737e-01, -4.00944511e-01,\n",
              "        -3.75560674e-01, -2.45240407e+00],\n",
              "       [ 4.60809808e-01,  1.97737199e+00, -4.00944511e-01,\n",
              "        -4.11780382e-02,  4.07763147e-01],\n",
              "       [ 4.60809808e-01, -5.05721737e-01, -4.00944511e-01,\n",
              "        -3.87602154e-01, -2.45240407e+00],\n",
              "       [-2.17009270e+00, -5.05721737e-01, -4.00944511e-01,\n",
              "        -4.78530766e-01,  4.07763147e-01],\n",
              "       [ 4.60809808e-01, -5.05721737e-01, -4.00944511e-01,\n",
              "        -4.03348705e-01, -2.45240407e+00],\n",
              "       [-2.17009270e+00, -5.05721737e-01, -4.00944511e-01,\n",
              "        -4.77450120e-01,  4.07763147e-01],\n",
              "       [ 4.60809808e-01, -5.05721737e-01, -4.00944511e-01,\n",
              "        -1.72494562e-02,  4.07763147e-01],\n",
              "       [-2.17009270e+00, -5.05721737e-01, -4.00944511e-01,\n",
              "        -2.22263371e-01,  4.07763147e-01],\n",
              "       [ 4.60809808e-01, -5.05721737e-01, -4.00944511e-01,\n",
              "        -2.92042204e-01,  4.07763147e-01],\n",
              "       [ 4.60809808e-01, -5.05721737e-01,  2.49411071e+00,\n",
              "         4.73363663e-01, -2.45240407e+00],\n",
              "       [ 4.60809808e-01, -5.05721737e-01, -4.00944511e-01,\n",
              "        -5.35341851e-01,  4.07763147e-01],\n",
              "       [ 4.60809808e-01, -5.05721737e-01,  2.49411071e+00,\n",
              "        -4.17551476e-01,  4.07763147e-01],\n",
              "       [ 4.60809808e-01, -5.05721737e-01, -4.00944511e-01,\n",
              "        -3.91770359e-01, -2.45240407e+00],\n",
              "       [ 4.60809808e-01, -5.05721737e-01, -4.00944511e-01,\n",
              "         3.38496447e-02,  4.07763147e-01],\n",
              "       [ 4.60809808e-01, -5.05721737e-01, -4.00944511e-01,\n",
              "        -4.19558389e-01,  4.07763147e-01],\n",
              "       [ 4.60809808e-01, -5.05721737e-01, -4.00944511e-01,\n",
              "         1.59418027e-02,  4.07763147e-01],\n",
              "       [ 4.60809808e-01, -5.05721737e-01, -4.00944511e-01,\n",
              "        -2.03274884e-01,  4.07763147e-01],\n",
              "       [-2.17009270e+00,  1.97737199e+00, -4.00944511e-01,\n",
              "        -1.83977640e-01,  4.07763147e-01],\n",
              "       [ 4.60809808e-01, -5.05721737e-01, -4.00944511e-01,\n",
              "        -4.82698970e-01,  4.07763147e-01],\n",
              "       [ 4.60809808e-01, -5.05721737e-01, -4.00944511e-01,\n",
              "        -3.99026122e-01,  4.07763147e-01],\n",
              "       [ 4.60809808e-01, -5.05721737e-01, -4.00944511e-01,\n",
              "        -3.08715023e-01,  4.07763147e-01],\n",
              "       [ 4.60809808e-01, -5.05721737e-01, -4.00944511e-01,\n",
              "        -4.90109112e-01,  4.07763147e-01],\n",
              "       [ 4.60809808e-01, -5.05721737e-01, -4.00944511e-01,\n",
              "        -3.63364816e-01,  4.07763147e-01],\n",
              "       [ 4.60809808e-01, -5.05721737e-01, -4.00944511e-01,\n",
              "        -2.48816379e-01,  4.07763147e-01],\n",
              "       [-2.17009270e+00, -5.05721737e-01, -4.00944511e-01,\n",
              "        -4.93968560e-01, -2.45240407e+00],\n",
              "       [ 4.60809808e-01, -5.05721737e-01,  2.49411071e+00,\n",
              "         1.62409689e+00,  4.07763147e-01],\n",
              "       [ 4.60809808e-01,  1.97737199e+00, -4.00944511e-01,\n",
              "        -4.53675916e-01,  4.07763147e-01],\n",
              "       [-2.17009270e+00, -5.05721737e-01, -4.00944511e-01,\n",
              "        -4.81000813e-01,  4.07763147e-01],\n",
              "       [-2.17009270e+00, -5.05721737e-01, -4.00944511e-01,\n",
              "        -2.00650459e-01, -2.45240407e+00],\n",
              "       [ 4.60809808e-01, -5.05721737e-01, -4.00944511e-01,\n",
              "        -5.09869489e-01,  4.07763147e-01],\n",
              "       [ 4.60809808e-01,  1.97737199e+00, -4.00944511e-01,\n",
              "        -3.86675886e-01,  4.07763147e-01],\n",
              "       [ 4.60809808e-01, -5.05721737e-01, -4.00944511e-01,\n",
              "         3.05400456e-01,  4.07763147e-01],\n",
              "       [ 4.60809808e-01,  1.97737199e+00, -4.00944511e-01,\n",
              "        -6.41862635e-01,  4.07763147e-01],\n",
              "       [ 4.60809808e-01, -5.05721737e-01, -4.00944511e-01,\n",
              "        -4.11376358e-01,  4.07763147e-01],\n",
              "       [-2.17009270e+00, -5.05721737e-01, -4.00944511e-01,\n",
              "         9.88059743e-01,  4.07763147e-01],\n",
              "       [ 4.60809808e-01, -5.05721737e-01, -4.00944511e-01,\n",
              "        -1.99106679e-01,  4.07763147e-01],\n",
              "       [ 4.60809808e-01, -5.05721737e-01,  2.49411071e+00,\n",
              "         1.88690727e-01,  4.07763147e-01],\n",
              "       [ 4.60809808e-01, -5.05721737e-01, -4.00944511e-01,\n",
              "        -1.37664256e-01,  4.07763147e-01],\n",
              "       [-2.17009270e+00, -5.05721737e-01, -4.00944511e-01,\n",
              "        -3.73553761e-01, -2.45240407e+00],\n",
              "       [-2.17009270e+00, -5.05721737e-01,  2.49411071e+00,\n",
              "        -3.29864801e-01,  4.07763147e-01],\n",
              "       [ 4.60809808e-01, -5.05721737e-01,  2.49411071e+00,\n",
              "         5.80038826e-01,  4.07763147e-01],\n",
              "       [ 4.60809808e-01, -5.05721737e-01,  2.49411071e+00,\n",
              "        -4.78530766e-01,  4.07763147e-01]])"
            ]
          },
          "metadata": {
            "tags": []
          },
          "execution_count": 16
        }
      ]
    },
    {
      "cell_type": "code",
      "metadata": {
        "id": "6e-JX4WOtCLD",
        "colab_type": "code",
        "colab": {}
      },
      "source": [
        ""
      ],
      "execution_count": 0,
      "outputs": []
    },
    {
      "cell_type": "code",
      "metadata": {
        "id": "7FXd1Be2tj0w",
        "colab_type": "code",
        "outputId": "acf8ae3c-5746-4e2f-e645-67e8e2b3c6ef",
        "colab": {
          "base_uri": "https://localhost:8080/",
          "height": 279
        }
      },
      "source": [
        "\n",
        "plt.plot(X,y)\n",
        "plt.xlabel('ApplicantIncome')\n",
        "plt.ylabel('Loan Status')\n",
        "plt.show()"
      ],
      "execution_count": 0,
      "outputs": [
        {
          "output_type": "display_data",
          "data": {
            "image/png": "[encoded data removed]",
            "text/plain": [
              "<Figure size 432x288 with 1 Axes>"
            ]
          },
          "metadata": {
            "tags": []
          }
        }
      ]
    },
    {
      "cell_type": "code",
      "metadata": {
        "id": "uYpkqoHjtzzD",
        "colab_type": "code",
        "outputId": "3700edfd-541e-4733-f8b3-05465284bed7",
        "colab": {
          "base_uri": "https://localhost:8080/",
          "height": 673
        }
      },
      "source": [
        "import seaborn as sns\n",
        "\n",
        "sns.pairplot(data)"
      ],
      "execution_count": 0,
      "outputs": [
        {
          "output_type": "execute_result",
          "data": {
            "text/plain": [
              "<seaborn.axisgrid.PairGrid at 0x7f3c73126668>"
            ]
          },
          "metadata": {
            "tags": []
          },
          "execution_count": 211
        },
        {
          "output_type": "display_data",
          "data": {
            "image/png": "[encoded data removed]",
            "text/plain": [
              "<Figure size 1260x1260 with 56 Axes>"
            ]
          },
          "metadata": {
            "tags": []
          }
        }
      ]
    },
    {
      "cell_type": "code",
      "metadata": {
        "id": "qAxzUbvovIYl",
        "colab_type": "code",
        "outputId": "4100b55c-02b4-4db9-ebc3-b49ebd3c4be7",
        "colab": {
          "base_uri": "https://localhost:8080/",
          "height": 118
        }
      },
      "source": [
        "X_TRAIN = np.array(X_train).reshape(1,-1)\n",
        "Y_TRAIN = np.array(y_train).reshape(1,-1)\n",
        "X_TEST = np.array(X_test).reshape(1,-1)\n",
        "Y_TEST = np.array(y_test).reshape(1,-1)\n",
        "\n",
        "Y_TEST"
      ],
      "execution_count": 0,
      "outputs": [
        {
          "output_type": "execute_result",
          "data": {
            "text/plain": [
              "array([[1, 1, 0, 1, 1, 1, 1, 1, 0, 1, 1, 1, 1, 1, 1, 1, 0, 1, 1, 0, 0, 1,\n",
              "        1, 1, 0, 0, 1, 1, 1, 0, 1, 0, 1, 0, 1, 0, 0, 1, 1, 0, 1, 1, 0, 1,\n",
              "        1, 1, 0, 1, 1, 1, 0, 1, 0, 0, 1, 0, 0, 0, 1, 1, 1, 0, 1, 1, 1, 0,\n",
              "        0, 1, 1, 1, 1, 1, 1, 0, 0, 1, 1, 1, 1, 1, 1, 1, 0, 1, 1, 1, 0, 1,\n",
              "        1, 1, 1, 0, 0, 1, 0, 1, 1, 1, 1, 0, 1, 1, 1, 0, 1, 1, 1, 1, 0, 0,\n",
              "        1, 0, 0, 0, 0, 0, 0, 1, 1, 1, 1, 1, 1]])"
            ]
          },
          "metadata": {
            "tags": []
          },
          "execution_count": 377
        }
      ]
    },
    {
      "cell_type": "code",
      "metadata": {
        "id": "l23fY_4u8H68",
        "colab_type": "code",
        "outputId": "a9c3fabd-05b7-4b09-a79a-084b1a67f274",
        "colab": {
          "base_uri": "https://localhost:8080/",
          "height": 390
        }
      },
      "source": [
        "''' SVM '''\n",
        "from sklearn.svm import SVC\n",
        "\n",
        "X_TRAIN = np.array(X_train).reshape(1,-1)\n",
        "Y_TRAIN = np.array(y_train).reshape(-1,1)\n",
        "X_TEST = np.array(X_test).reshape(-1,1)\n",
        "Y_TEST = np.array(y_test).reshape(-1,1)\n",
        "\n",
        "classifier = SVC(kernel='linear')\n",
        "classifier.fit(X_train, Y_TRAIN)\n",
        "y_pred = classifier.predict(X_test)\n",
        "\n",
        "print('Confusion Matrix\\n {}\\n\\n'.format(confusion_matrix(Y_TEST,y_pred)))\n",
        "print('Classification Report \\n {}\\n\\n'.format(classification_report(Y_TEST,y_pred)))\n",
        "print('SVC Accuracy - \\t {}\\n'.format(classifier.score(X_test, Y_TEST)))\n"
      ],
      "execution_count": 0,
      "outputs": [
        {
          "output_type": "stream",
          "text": [
            "Confusion Matrix\n",
            " [[19 20]\n",
            " [ 0 84]]\n",
            "\n",
            "\n",
            "Classification Report \n",
            "               precision    recall  f1-score   support\n",
            "\n",
            "           0       1.00      0.49      0.66        39\n",
            "           1       0.81      1.00      0.89        84\n",
            "\n",
            "    accuracy                           0.84       123\n",
            "   macro avg       0.90      0.74      0.77       123\n",
            "weighted avg       0.87      0.84      0.82       123\n",
            "\n",
            "\n",
            "\n",
            "SVC Accuracy - \t 0.8373983739837398\n",
            "\n"
          ],
          "name": "stdout"
        },
        {
          "output_type": "stream",
          "text": [
            "/usr/local/lib/python3.6/dist-packages/sklearn/utils/validation.py:760: DataConversionWarning: A column-vector y was passed when a 1d array was expected. Please change the shape of y to (n_samples, ), for example using ravel().\n",
            "  y = column_or_1d(y, warn=True)\n"
          ],
          "name": "stderr"
        }
      ]
    },
    {
      "cell_type": "code",
      "metadata": {
        "id": "e_Z7vV1I991U",
        "colab_type": "code",
        "outputId": "71ea1350-c010-491c-f544-f32b5517a35b",
        "colab": {
          "base_uri": "https://localhost:8080/",
          "height": 118
        }
      },
      "source": [
        "classifier.predict(X_test) "
      ],
      "execution_count": 0,
      "outputs": [
        {
          "output_type": "execute_result",
          "data": {
            "text/plain": [
              "array([1, 1, 1, 1, 1, 1, 1, 1, 0, 1, 1, 1, 1, 1, 1, 1, 1, 1, 1, 1, 0, 1,\n",
              "       1, 1, 1, 0, 1, 1, 1, 0, 1, 0, 1, 1, 1, 1, 1, 1, 1, 1, 1, 1, 1, 1,\n",
              "       1, 1, 0, 1, 1, 1, 0, 1, 1, 1, 1, 1, 1, 0, 1, 1, 1, 1, 1, 1, 1, 0,\n",
              "       1, 1, 1, 1, 1, 1, 1, 1, 0, 1, 1, 1, 1, 1, 1, 1, 1, 1, 1, 1, 0, 1,\n",
              "       1, 1, 1, 0, 1, 1, 1, 1, 0, 1, 1, 0, 1, 1, 1, 1, 1, 1, 1, 1, 0, 1,\n",
              "       1, 0, 0, 1, 0, 1, 1, 1, 1, 1, 1, 1, 1])"
            ]
          },
          "metadata": {
            "tags": []
          },
          "execution_count": 389
        }
      ]
    },
    {
      "cell_type": "code",
      "metadata": {
        "id": "2S7Yk9AReX05",
        "colab_type": "code",
        "outputId": "d2c4bd01-a1be-4878-dd45-60f2a02cccc0",
        "colab": {
          "base_uri": "https://localhost:8080/",
          "height": 34
        }
      },
      "source": [
        "classifier.predict([[ 4.54299688e-01,  1.85024956e+00, -3.80160683e-01,\n",
        "        -2.51883331e-01,  4.07763147e-01]])"
      ],
      "execution_count": 0,
      "outputs": [
        {
          "output_type": "execute_result",
          "data": {
            "text/plain": [
              "array([1])"
            ]
          },
          "metadata": {
            "tags": []
          },
          "execution_count": 391
        }
      ]
    },
    {
      "cell_type": "code",
      "metadata": {
        "id": "YC_IsPWhe624",
        "colab_type": "code",
        "outputId": "05419176-f2aa-4aa9-832d-b1643bd0f4f7",
        "colab": {
          "base_uri": "https://localhost:8080/",
          "height": 34
        }
      },
      "source": [
        "classifier.predict([[ 4.54299688e-01,  1.85024956e+00, -3.80160683e-01,\n",
        "        -6.19638466e-01, -2.45240407e+00],])"
      ],
      "execution_count": 0,
      "outputs": [
        {
          "output_type": "execute_result",
          "data": {
            "text/plain": [
              "array([0])"
            ]
          },
          "metadata": {
            "tags": []
          },
          "execution_count": 392
        }
      ]
    },
    {
      "cell_type": "code",
      "metadata": {
        "id": "-rlP0n7gfIE1",
        "colab_type": "code",
        "outputId": "778b0f32-f63f-41a9-ca31-52f3840f99f1",
        "colab": {
          "base_uri": "https://localhost:8080/",
          "height": 390
        }
      },
      "source": [
        "''' Random Forest Classifier '''\n",
        "X_TRAIN = np.array(X_train).reshape(1,-1)\n",
        "Y_TRAIN = np.array(y_train).reshape(-1,1)\n",
        "X_TEST = np.array(X_test).reshape(-1,1)\n",
        "Y_TEST = np.array(y_test).reshape(-1,1)\n",
        "\n",
        "classifier = RandomForestClassifier(n_estimators=100, criterion='gini',max_depth=2, random_state=3)\n",
        "classifier.fit(X_train, Y_TRAIN)\n",
        "y_pred = classifier.predict(X_test)\n",
        "\n",
        "print('Confusion Matrix\\n {}\\n\\n'.format(confusion_matrix(Y_TEST,y_pred)))\n",
        "print('Classification Report \\n {}\\n\\n'.format(classification_report(Y_TEST,y_pred)))\n",
        "\n",
        "print('Random Forest Accuracy - \\t {}\\n'.format(classifier.score(X_test, Y_TEST)))\n"
      ],
      "execution_count": 0,
      "outputs": [
        {
          "output_type": "stream",
          "text": [
            "Confusion Matrix\n",
            " [[19 20]\n",
            " [ 0 84]]\n",
            "\n",
            "\n",
            "Classification Report \n",
            "               precision    recall  f1-score   support\n",
            "\n",
            "           0       1.00      0.49      0.66        39\n",
            "           1       0.81      1.00      0.89        84\n",
            "\n",
            "    accuracy                           0.84       123\n",
            "   macro avg       0.90      0.74      0.77       123\n",
            "weighted avg       0.87      0.84      0.82       123\n",
            "\n",
            "\n",
            "\n",
            "Random Forest Accuracy - \t 0.8373983739837398\n",
            "\n"
          ],
          "name": "stdout"
        },
        {
          "output_type": "stream",
          "text": [
            "/usr/local/lib/python3.6/dist-packages/ipykernel_launcher.py:8: DataConversionWarning: A column-vector y was passed when a 1d array was expected. Please change the shape of y to (n_samples,), for example using ravel().\n",
            "  \n"
          ],
          "name": "stderr"
        }
      ]
    },
    {
      "cell_type": "code",
      "metadata": {
        "id": "HnU7guip8yf_",
        "colab_type": "code",
        "colab": {}
      },
      "source": [
        ""
      ],
      "execution_count": 0,
      "outputs": []
    }
  ]
}